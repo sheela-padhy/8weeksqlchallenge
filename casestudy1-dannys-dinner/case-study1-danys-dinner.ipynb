{
 "cells": [
  {
   "cell_type": "markdown",
   "id": "d734b941-9d47-41e7-b1fb-2af09b48439f",
   "metadata": {
    "tags": []
   },
   "source": [
    "## Pre-requisites Package Installation and Connection to MySQL"
   ]
  },
  {
   "cell_type": "markdown",
   "id": "5f91ab56-5551-4f08-992c-e663e6f75aed",
   "metadata": {},
   "source": [
    "### Case Study 1 - Danyys Dinner \n",
    "\n",
    "You can find the DDL on [this page](https://github.com/sheela-padhy/8weeksqlchallenge/blob/main/casestudy1-dannys-dinner/schema.sql).\n",
    "\n",
    "For more details, please visit the [8 Week SQL Challenge - Case Study 1](https://8weeksqlchallenge.com/case-study-1/).\n"
   ]
  },
  {
   "cell_type": "code",
   "execution_count": 99,
   "id": "2423a2fd-f0fb-48af-a292-ec86bc5a09a9",
   "metadata": {
    "tags": []
   },
   "outputs": [
    {
     "name": "stdout",
     "output_type": "stream",
     "text": [
      "Requirement already satisfied: mysql-connector-python in /opt/conda/lib/python3.10/site-packages (8.1.0)\n",
      "Requirement already satisfied: protobuf<=4.21.12,>=4.21.1 in /opt/conda/lib/python3.10/site-packages (from mysql-connector-python) (4.21.12)\n",
      "\u001b[33mWARNING: Running pip as the 'root' user can result in broken permissions and conflicting behaviour with the system package manager. It is recommended to use a virtual environment instead: https://pip.pypa.io/warnings/venv\u001b[0m\u001b[33m\n",
      "\u001b[0mRequirement already satisfied: python-decouple in /opt/conda/lib/python3.10/site-packages (3.8)\n",
      "\u001b[33mWARNING: Running pip as the 'root' user can result in broken permissions and conflicting behaviour with the system package manager. It is recommended to use a virtual environment instead: https://pip.pypa.io/warnings/venv\u001b[0m\u001b[33m\n",
      "\u001b[0m"
     ]
    }
   ],
   "source": [
    "#Installed mysql connector package for executing SQL queries from python\n",
    "!pip install mysql-connector-python\n",
    "# Installed python decouple to read credentials from environment file\n",
    "!pip install python-decouple\n"
   ]
  },
  {
   "cell_type": "code",
   "execution_count": 100,
   "id": "e651e13f-e39b-46aa-9607-1e2e4d60d24b",
   "metadata": {
    "tags": []
   },
   "outputs": [],
   "source": [
    "import warnings\n",
    "# Filter out the UserWarning from pandas\n",
    "warnings.filterwarnings(\"ignore\", category=UserWarning, module=\"pandas.io.sql\")\n",
    "import pandas as pd\n",
    "import mysql.connector\n",
    "import matplotlib.pyplot as plt\n",
    "from decouple import Config, RepositoryEnv"
   ]
  },
  {
   "cell_type": "code",
   "execution_count": 101,
   "id": "ccf5b78a-5e31-4a4f-b4d6-ab05f8e69e4a",
   "metadata": {
    "tags": []
   },
   "outputs": [],
   "source": [
    "#take password from secret\n",
    "#db_host = config('DB_HOST')\n",
    "DOTENV_FILE = '/root/.env'\n",
    "config = Config(RepositoryEnv(DOTENV_FILE))\n",
    "db_config = {\n",
    "    'host': config('DB_HOST'),\n",
    "    'user': config('DB_USER'),\n",
    "    'password': config('DB_PASSWORD'),\n",
    "    'database': config('DB_DATABASE')\n",
    "}\n",
    "conn = mysql.connector.connect(**db_config)"
   ]
  },
  {
   "cell_type": "markdown",
   "id": "4e8503d0-581f-415b-9f3c-924486c242ad",
   "metadata": {
    "tags": []
   },
   "source": [
    "## What is the total amount each customer spent at the restaurant?"
   ]
  },
  {
   "cell_type": "code",
   "execution_count": 102,
   "id": "0d907c30-f97d-43f0-a829-45f29e871257",
   "metadata": {
    "tags": []
   },
   "outputs": [],
   "source": [
    "sql_query_customer_amount_spent = ''' \n",
    "SELECT \n",
    "  customer_id, \n",
    "  SUM(price) AS total_amount_spent_dollars\n",
    "FROM \n",
    "  menu AS m \n",
    "  INNER JOIN sales AS s ON m.product_id = s.product_id \n",
    "GROUP BY \n",
    "  customer_id\n",
    "'''"
   ]
  },
  {
   "cell_type": "markdown",
   "id": "b126dc92-6ff3-4431-9cce-8095c502cb17",
   "metadata": {
    "tags": []
   },
   "source": [
    "### SQL Query Explanation\n",
    "\n",
    "1. **SELECT customer_id, SUM(price) AS total_amount_spent**:\n",
    "   - This line specifies the columns you want to retrieve in the result set as per the question\n",
    "   - `customer_id` is the unique identifier for customers.\n",
    "   - `SUM(price)` calculates the total sum of the `price` column for each customer.\n",
    "   - `AS total_amount_spent` gives a name (alias) to the calculated sum, which will be referred to as `total_amount_spent_dollars` in the result set.\n",
    "\n",
    "2. **FROM menu AS m INNER JOIN sales AS s ON m.product_id = s.product_id**:\n",
    "   - This line specifies the tables you are querying data from.\n",
    "   - `menu AS m` and `sales AS s` are table aliases, which are short names that make the query more readable.\n",
    "   - `INNER JOIN` is used to combine rows from both tables based on a specified condition.\n",
    "   - `ON m.product_id = s.product_id` is the join condition, indicating that rows from the `menu` table should be matched with rows from the `sales` table where the `product_id` values match. This links the two tables based on the common product identifier.\n",
    "\n",
    "3. **GROUP BY customer_id**:\n",
    "   - This line groups the results by the `customer_id` column.\n",
    "   - When you use `GROUP BY`, the query will aggregate data for each unique value in the specified column.\n",
    "   - In this case, it means that the query will calculate the total amount spent by each unique customer because it's grouping by `customer_id`.\n"
   ]
  },
  {
   "cell_type": "code",
   "execution_count": 103,
   "id": "d95be7c2-9d00-4ba6-97cd-2aa113cc63cb",
   "metadata": {
    "tags": []
   },
   "outputs": [],
   "source": [
    "sql_query_customer_amount_spent_results = pd.read_sql_query(sql_query_customer_amount_spent, conn)"
   ]
  },
  {
   "cell_type": "code",
   "execution_count": 104,
   "id": "4fa0b1c1-7718-49c6-aa51-6bc3a1331145",
   "metadata": {
    "tags": []
   },
   "outputs": [
    {
     "data": {
      "text/html": [
       "<div>\n",
       "<style scoped>\n",
       "    .dataframe tbody tr th:only-of-type {\n",
       "        vertical-align: middle;\n",
       "    }\n",
       "\n",
       "    .dataframe tbody tr th {\n",
       "        vertical-align: top;\n",
       "    }\n",
       "\n",
       "    .dataframe thead th {\n",
       "        text-align: right;\n",
       "    }\n",
       "</style>\n",
       "<table border=\"1\" class=\"dataframe\">\n",
       "  <thead>\n",
       "    <tr style=\"text-align: right;\">\n",
       "      <th></th>\n",
       "      <th>customer_id</th>\n",
       "      <th>total_amount_spent_dollars</th>\n",
       "    </tr>\n",
       "  </thead>\n",
       "  <tbody>\n",
       "    <tr>\n",
       "      <th>0</th>\n",
       "      <td>A</td>\n",
       "      <td>76.0</td>\n",
       "    </tr>\n",
       "    <tr>\n",
       "      <th>1</th>\n",
       "      <td>B</td>\n",
       "      <td>74.0</td>\n",
       "    </tr>\n",
       "    <tr>\n",
       "      <th>2</th>\n",
       "      <td>C</td>\n",
       "      <td>36.0</td>\n",
       "    </tr>\n",
       "  </tbody>\n",
       "</table>\n",
       "</div>"
      ],
      "text/plain": [
       "  customer_id  total_amount_spent_dollars\n",
       "0           A                        76.0\n",
       "1           B                        74.0\n",
       "2           C                        36.0"
      ]
     },
     "execution_count": 104,
     "metadata": {},
     "output_type": "execute_result"
    }
   ],
   "source": [
    "sql_query_customer_amount_spent_results"
   ]
  },
  {
   "cell_type": "code",
   "execution_count": 105,
   "id": "33b87ae6-1bbc-4fca-9c05-2d81b285a6e3",
   "metadata": {
    "tags": []
   },
   "outputs": [
    {
     "data": {
      "image/png": "[encoded data removed]",
      "text/plain": [
       "<Figure size 500x300 with 1 Axes>"
      ]
     },
     "metadata": {},
     "output_type": "display_data"
    }
   ],
   "source": [
    "plt.figure(figsize=(5, 3))\n",
    "plt.bar(sql_query_customer_amount_spent_results['customer_id'], sql_query_customer_amount_spent_results['total_amount_spent_dollars'])\n",
    "plt.xlabel('Customer Id')\n",
    "plt.ylabel('Total Amount Spent in $')\n",
    "plt.title('Amount Spent by Customer')\n",
    "plt.xticks(rotation=45, ha='right')\n",
    "plt.show()"
   ]
  },
  {
   "cell_type": "markdown",
   "id": "b175b22a-6cf2-4d93-b1a2-58667e1b126c",
   "metadata": {
    "tags": []
   },
   "source": [
    "## How many days has each customer visited the restaurant?"
   ]
  },
  {
   "cell_type": "code",
   "execution_count": 106,
   "id": "7d6a99c1-8f4d-437c-bcdc-949d6155fbc7",
   "metadata": {
    "tags": []
   },
   "outputs": [],
   "source": [
    "sql_query_customer_spent_days = ''' \n",
    "SELECT \n",
    "  customer_id, \n",
    "  COUNT(\n",
    "    DISTINCT (order_date)\n",
    "  ) AS visit_days_count \n",
    "FROM \n",
    "  sales \n",
    "GROUP BY \n",
    "  customer_id \n",
    "ORDER by visit_days_count desc\n",
    "'''"
   ]
  },
  {
   "cell_type": "markdown",
   "id": "389caed6-9ef3-4511-890e-9c21162b8c7f",
   "metadata": {},
   "source": [
    "### SQL Query Explanation\n",
    "\n",
    "Break down the query step by step:\n",
    "\n",
    "\n",
    "1. **SELECT customer_id, COUNT(DISTINCT(order_date)) AS No_of_days**:\n",
    "   - This line specifies the columns you want to retrieve in the result set.\n",
    "   - `customer_id` is the unique identifier for customers.\n",
    "   - `COUNT(DISTINCT(order_date))` calculates the count of distinct (unique) `order_date` values for each customer.\n",
    "   - `AS visit_days_count` gives a name (alias) to the calculated count, which will be referred to as `visit_days_count` in the result set.\n",
    "\n",
    "2. **FROM sales**:\n",
    "   - This line specifies the table you are querying data from, which is the `sales` table.\n",
    "\n",
    "3. **GROUP BY customer_id**:\n",
    "   - This line groups the results by the `customer_id` column.\n",
    "   - When you use `GROUP BY`, the query will group the data by unique values in the specified column, in this case, `customer_id`.\n",
    "\n",
    "In summary, this SQL query retrieves data from the `sales` table, calculates the number of distinct days on which each customer made a purchase, and groups the results by `customer_id`. The final result will show a list of unique customer IDs along with the count of days they made a purchase, essentially indicating how many different days each customer has placed an order.\n"
   ]
  },
  {
   "cell_type": "code",
   "execution_count": 107,
   "id": "bd73f80f-ef95-45b0-88b5-db417d3494dc",
   "metadata": {
    "tags": []
   },
   "outputs": [],
   "source": [
    "sql_query_customer_spent_days_results = pd.read_sql_query(sql_query_customer_spent_days, conn)"
   ]
  },
  {
   "cell_type": "code",
   "execution_count": 108,
   "id": "e8ca24f2-d693-47c7-a074-c1260bb02a2f",
   "metadata": {
    "tags": []
   },
   "outputs": [
    {
     "data": {
      "text/html": [
       "<div>\n",
       "<style scoped>\n",
       "    .dataframe tbody tr th:only-of-type {\n",
       "        vertical-align: middle;\n",
       "    }\n",
       "\n",
       "    .dataframe tbody tr th {\n",
       "        vertical-align: top;\n",
       "    }\n",
       "\n",
       "    .dataframe thead th {\n",
       "        text-align: right;\n",
       "    }\n",
       "</style>\n",
       "<table border=\"1\" class=\"dataframe\">\n",
       "  <thead>\n",
       "    <tr style=\"text-align: right;\">\n",
       "      <th></th>\n",
       "      <th>customer_id</th>\n",
       "      <th>visit_days_count</th>\n",
       "    </tr>\n",
       "  </thead>\n",
       "  <tbody>\n",
       "    <tr>\n",
       "      <th>0</th>\n",
       "      <td>B</td>\n",
       "      <td>6</td>\n",
       "    </tr>\n",
       "    <tr>\n",
       "      <th>1</th>\n",
       "      <td>A</td>\n",
       "      <td>4</td>\n",
       "    </tr>\n",
       "    <tr>\n",
       "      <th>2</th>\n",
       "      <td>C</td>\n",
       "      <td>2</td>\n",
       "    </tr>\n",
       "  </tbody>\n",
       "</table>\n",
       "</div>"
      ],
      "text/plain": [
       "  customer_id  visit_days_count\n",
       "0           B                 6\n",
       "1           A                 4\n",
       "2           C                 2"
      ]
     },
     "execution_count": 108,
     "metadata": {},
     "output_type": "execute_result"
    }
   ],
   "source": [
    "sql_query_customer_spent_days_results"
   ]
  },
  {
   "cell_type": "code",
   "execution_count": 109,
   "id": "615db28d-6fbe-407b-9bbc-d68fd4212f33",
   "metadata": {
    "tags": []
   },
   "outputs": [
    {
     "data": {
      "image/png": "[encoded data removed]",
      "text/plain": [
       "<Figure size 500x300 with 1 Axes>"
      ]
     },
     "metadata": {},
     "output_type": "display_data"
    }
   ],
   "source": [
    "plt.figure(figsize=(5, 3))\n",
    "plt.bar(sql_query_customer_spent_days_results['customer_id'], sql_query_customer_spent_days_results['visit_days_count'])\n",
    "plt.xlabel('Customer Id')\n",
    "plt.ylabel('Number of Visit Days')\n",
    "plt.title('Number of Days Spent by Customer')\n",
    "plt.xticks(rotation=45, ha='right')\n",
    "plt.show()"
   ]
  },
  {
   "cell_type": "markdown",
   "id": "a29176cb-6228-4385-a8e4-7a2c88b2aa2d",
   "metadata": {
    "tags": []
   },
   "source": [
    "## What was the first item from the menu purchased by each customer?"
   ]
  },
  {
   "cell_type": "code",
   "execution_count": 110,
   "id": "47b511bb-7a56-4bae-a491-ff4d93804f7c",
   "metadata": {
    "tags": []
   },
   "outputs": [],
   "source": [
    "sql_query_first_customer_item = ''' select \n",
    "  distinct(customer_id), \n",
    "  product_name \n",
    "from \n",
    "  (\n",
    "    select \n",
    "      customer_id, \n",
    "      product_name \n",
    "    from \n",
    "      (\n",
    "        select \n",
    "          customer_id, \n",
    "          s.product_id, \n",
    "          product_name, \n",
    "          dense_rank() over(\n",
    "            partition by customer_id \n",
    "            order by \n",
    "              order_date\n",
    "          ) as r \n",
    "        from \n",
    "          sales as s \n",
    "          inner join menu as m on s.product_id = m.product_id\n",
    "      ) c \n",
    "    where \n",
    "      r = 1\n",
    "  ) k\n",
    " '''"
   ]
  },
  {
   "cell_type": "markdown",
   "id": "bbcf0694-2339-40fb-a84f-b0b601105b81",
   "metadata": {},
   "source": [
    "### SQL Query Explanation\n",
    "\n",
    "This SQL query is designed to retrieve specific data from the `sales` and `menu` tables, and it includes subqueries. Let's break it down step by step:\n",
    "\n",
    "1. **SELECT DISTINCT(customer_id), product_name**:\n",
    "   - This line specifies the columns you want to retrieve in the result set.\n",
    "   - `customer_id` and `product_name` are the names of the columns you're selecting.\n",
    "   - `DISTINCT` ensures that only unique combinations of `customer_id` and `product_name` are included in the result set.\n",
    "\n",
    "2. **FROM (subquery)**:\n",
    "   - This line indicates that you are selecting data from a subquery.\n",
    "   - The subquery is enclosed in parentheses and is used to filter and organize the data before the final selection.\n",
    "\n",
    "3. **(subquery)**:\n",
    "   - This is the innermost subquery within the query.\n",
    "   - It starts by joining the `sales` and `menu` tables on the `product_id` column.\n",
    "   - It selects columns like `customer_id`, `product_name`, and calculates a ranking (`r`) for each row within a partition defined by `customer_id` based on the `order_date`.\n",
    "   - This ranking is generated using the `DENSE_RANK()` window function, which assigns a rank to each record within the customer's orders, ordered by `order_date`.\n",
    "\n",
    "4. **WHERE r = 1**:\n",
    "   - This line filters the results from the inner subquery.\n",
    "   - It selects only the rows where the `r` value (the rank) is equal to 1.\n",
    "   - This effectively retrieves the first product ordered by each customer based on the `order_date`.\n",
    "\n",
    "5. **SELECT DISTINCT(customer_id), product_name** (outermost query):\n",
    "   - This is the outermost query that selects from the results of the inner subquery.\n",
    "   - It retrieves the distinct combinations of `customer_id` and `product_name` for the products that each customer ordered first.\n",
    "\n",
    "In summary, this SQL query retrieves the distinct combinations of `customer_id` and the name of the product they ordered first based on the `order_date`. It uses subqueries to filter and organize the data at different stages of the query.\n"
   ]
  },
  {
   "cell_type": "code",
   "execution_count": 111,
   "id": "db0f7b4e-2346-4438-83ca-ac6de370ba7b",
   "metadata": {
    "tags": []
   },
   "outputs": [],
   "source": [
    "sql_query_first_customer_item_results = pd.read_sql_query(sql_query_first_customer_item, conn)"
   ]
  },
  {
   "cell_type": "code",
   "execution_count": 112,
   "id": "5f8ce99c-35e4-4745-9287-ac15f0844f00",
   "metadata": {
    "tags": []
   },
   "outputs": [
    {
     "data": {
      "text/html": [
       "<div>\n",
       "<style scoped>\n",
       "    .dataframe tbody tr th:only-of-type {\n",
       "        vertical-align: middle;\n",
       "    }\n",
       "\n",
       "    .dataframe tbody tr th {\n",
       "        vertical-align: top;\n",
       "    }\n",
       "\n",
       "    .dataframe thead th {\n",
       "        text-align: right;\n",
       "    }\n",
       "</style>\n",
       "<table border=\"1\" class=\"dataframe\">\n",
       "  <thead>\n",
       "    <tr style=\"text-align: right;\">\n",
       "      <th></th>\n",
       "      <th>customer_id</th>\n",
       "      <th>product_name</th>\n",
       "    </tr>\n",
       "  </thead>\n",
       "  <tbody>\n",
       "    <tr>\n",
       "      <th>0</th>\n",
       "      <td>A</td>\n",
       "      <td>sushi</td>\n",
       "    </tr>\n",
       "    <tr>\n",
       "      <th>1</th>\n",
       "      <td>A</td>\n",
       "      <td>curry</td>\n",
       "    </tr>\n",
       "    <tr>\n",
       "      <th>2</th>\n",
       "      <td>B</td>\n",
       "      <td>curry</td>\n",
       "    </tr>\n",
       "    <tr>\n",
       "      <th>3</th>\n",
       "      <td>C</td>\n",
       "      <td>ramen</td>\n",
       "    </tr>\n",
       "  </tbody>\n",
       "</table>\n",
       "</div>"
      ],
      "text/plain": [
       "  customer_id product_name\n",
       "0           A        sushi\n",
       "1           A        curry\n",
       "2           B        curry\n",
       "3           C        ramen"
      ]
     },
     "execution_count": 112,
     "metadata": {},
     "output_type": "execute_result"
    }
   ],
   "source": [
    "sql_query_first_customer_item_results"
   ]
  },
  {
   "cell_type": "markdown",
   "id": "3c151b5c-7efe-4e8b-b8c4-553e15265651",
   "metadata": {
    "tags": []
   },
   "source": [
    "## What is the most purchased item on the menu and how many times was it purchased by all customers?"
   ]
  },
  {
   "cell_type": "code",
   "execution_count": 113,
   "id": "6a473da1-f7ed-4274-83f8-c190b2154afc",
   "metadata": {
    "tags": []
   },
   "outputs": [],
   "source": [
    "sql_query_most_purchased_customer_item = ''' SELECT \n",
    "    product_name, COUNT(m.product_id) AS no_of_times_purchased\n",
    "FROM\n",
    "    sales AS s\n",
    "        INNER JOIN\n",
    "    menu AS m ON s.product_id = m.product_id\n",
    "GROUP BY product_name\n",
    "ORDER BY COUNT(m.product_id) DESC\n",
    "'''"
   ]
  },
  {
   "cell_type": "markdown",
   "id": "ef584aef-c231-4916-aa12-78bede4aa2c5",
   "metadata": {},
   "source": [
    "### SQL Query Explanation\n",
    "\n",
    "This SQL query is designed to retrieve specific data from the `sales` and `menu` tables, calculate the number of times each product has been purchased, and order the results by the count of purchases in descending order. Let's break it down step by step:\n",
    "\n",
    "1. **SELECT product_name, COUNT(m.product_id) AS no_of_times_purchased**:\n",
    "   - This line specifies the columns you want to retrieve in the result set.\n",
    "   - `product_name` is the name of the product.\n",
    "   - `COUNT(m.product_id)` calculates the number of times each product has been purchased.\n",
    "   - `AS no_of_times_purchased` gives a name (alias) to the calculated count, which will be referred to as `no_of_times_purchased` in the result set.\n",
    "\n",
    "2. **FROM sales AS s INNER JOIN menu AS m ON s.product_id = m.product_id**:\n",
    "   - This line specifies the tables you are querying data from.\n",
    "   - `sales AS s` and `menu AS m` are table aliases, which are short names that make the query more readable.\n",
    "   - `INNER JOIN` is used to combine rows from both tables based on a specified condition.\n",
    "   - `ON s.product_id = m.product_id` is the join condition, indicating that rows from the `sales` table should be matched with rows from the `menu` table where the `product_id` values match. This links the two tables based on the common product identifier.\n",
    "\n",
    "3. **GROUP BY product_name**:\n",
    "   - This line groups the results by the `product_name` column.\n",
    "   - When you use `GROUP BY`, the query will aggregate data for each unique value in the specified column.\n",
    "   - In this case, it groups the data by product names, so the query will calculate the count of purchases for each unique product.\n",
    "\n",
    "4. **ORDER BY COUNT(m.product_id) DESC**:\n",
    "   - This line specifies the ordering of the results using the `ORDER BY` clause.\n",
    "   - `COUNT(m.product_id)` is used as the sorting criteria, so the results will be ordered by the count of purchases in descending order.\n",
    "   - This means that products with the highest number of purchases will appear at the top of the result set.\n",
    "\n",
    "In summary, this SQL query retrieves data from the `sales` and `menu` tables, calculates the number of times each product has been purchased, groups the results by product name, and orders the results by the count of purchases in descending order. The final result will show a list of products along with the number of times each product has been purchased, with the most purchased products listed first.\n",
    "\n",
    "\n"
   ]
  },
  {
   "cell_type": "code",
   "execution_count": 114,
   "id": "c0a2b4d1-5006-4f16-afbd-637088a6a480",
   "metadata": {
    "tags": []
   },
   "outputs": [],
   "source": [
    "sql_query_most_purchased_customer_item_results = pd.read_sql_query(sql_query_most_purchased_customer_item, conn)"
   ]
  },
  {
   "cell_type": "code",
   "execution_count": 115,
   "id": "0783644c-98ec-4e79-82d7-d92faaebc248",
   "metadata": {
    "tags": []
   },
   "outputs": [
    {
     "data": {
      "text/html": [
       "<div>\n",
       "<style scoped>\n",
       "    .dataframe tbody tr th:only-of-type {\n",
       "        vertical-align: middle;\n",
       "    }\n",
       "\n",
       "    .dataframe tbody tr th {\n",
       "        vertical-align: top;\n",
       "    }\n",
       "\n",
       "    .dataframe thead th {\n",
       "        text-align: right;\n",
       "    }\n",
       "</style>\n",
       "<table border=\"1\" class=\"dataframe\">\n",
       "  <thead>\n",
       "    <tr style=\"text-align: right;\">\n",
       "      <th></th>\n",
       "      <th>product_name</th>\n",
       "      <th>no_of_times_purchased</th>\n",
       "    </tr>\n",
       "  </thead>\n",
       "  <tbody>\n",
       "    <tr>\n",
       "      <th>0</th>\n",
       "      <td>ramen</td>\n",
       "      <td>8</td>\n",
       "    </tr>\n",
       "    <tr>\n",
       "      <th>1</th>\n",
       "      <td>curry</td>\n",
       "      <td>4</td>\n",
       "    </tr>\n",
       "    <tr>\n",
       "      <th>2</th>\n",
       "      <td>sushi</td>\n",
       "      <td>3</td>\n",
       "    </tr>\n",
       "  </tbody>\n",
       "</table>\n",
       "</div>"
      ],
      "text/plain": [
       "  product_name  no_of_times_purchased\n",
       "0        ramen                      8\n",
       "1        curry                      4\n",
       "2        sushi                      3"
      ]
     },
     "execution_count": 115,
     "metadata": {},
     "output_type": "execute_result"
    }
   ],
   "source": [
    "sql_query_most_purchased_customer_item_results"
   ]
  },
  {
   "cell_type": "markdown",
   "id": "422d74d8-8f94-449a-885a-6b9431a5e7ec",
   "metadata": {
    "tags": []
   },
   "source": [
    "#### Most Purchased Product is Ramen, you can also apply limit 1 at the end of the SQL query"
   ]
  },
  {
   "cell_type": "code",
   "execution_count": 116,
   "id": "032b4ce5-7e5e-4cc1-94dc-8a86055044aa",
   "metadata": {
    "tags": []
   },
   "outputs": [
    {
     "data": {
      "image/png": "[encoded data removed]",
      "text/plain": [
       "<Figure size 500x300 with 1 Axes>"
      ]
     },
     "metadata": {},
     "output_type": "display_data"
    }
   ],
   "source": [
    "plt.figure(figsize=(5, 3))\n",
    "plt.bar(sql_query_most_purchased_customer_item_results['product_name'], sql_query_most_purchased_customer_item_results['no_of_times_purchased'])\n",
    "plt.xlabel('Product Name')\n",
    "plt.ylabel('Number of Times Purchased')\n",
    "plt.title('Number of Times Purchased by Product')\n",
    "plt.xticks(rotation=45, ha='right')\n",
    "plt.show()"
   ]
  },
  {
   "cell_type": "markdown",
   "id": "ec9d9aac-b451-47e9-bcae-717ebbf10e19",
   "metadata": {
    "tags": []
   },
   "source": [
    "## Which item was the most popular for each customer?"
   ]
  },
  {
   "cell_type": "code",
   "execution_count": 117,
   "id": "a12a7beb-60d6-4b5f-bf43-7240a00eddfa",
   "metadata": {
    "tags": []
   },
   "outputs": [],
   "source": [
    "sql_query_most_popular_item_by_customer = ''' \n",
    "select \n",
    "  customer_id, \n",
    "  product_name, \n",
    "  No_of_times_purchased \n",
    "from \n",
    "  (\n",
    "    select \n",
    "      customer_id, \n",
    "      product_name, \n",
    "      count(s.product_id) as No_of_times_purchased, \n",
    "      dense_rank() over(\n",
    "        partition by customer_id \n",
    "        order by \n",
    "          count(s.product_id) desc\n",
    "      ) as m \n",
    "    from \n",
    "      sales as s \n",
    "      inner join menu as m on s.product_id = m.product_id \n",
    "    group by \n",
    "      customer_id, \n",
    "      product_name\n",
    "  ) k \n",
    "where \n",
    "  m = 1\n",
    "\n",
    "''' "
   ]
  },
  {
   "cell_type": "markdown",
   "id": "42a4cb2d-86c5-416e-9553-926eb18e46db",
   "metadata": {},
   "source": [
    "### SQL Query Explanation\n",
    "\n",
    "This SQL query is designed to retrieve specific data related to the most frequently purchased products by each customer. It uses subqueries and window functions to achieve this. Let's break it down step by step:\n",
    "\n",
    "1. **SELECT customer_id, product_name, No_of_times_purchased**:\n",
    "   - This line specifies the columns you want to retrieve in the result set.\n",
    "   - `customer_id` is the unique identifier for customers.\n",
    "   - `product_name` is the name of the product.\n",
    "   - `No_of_times_purchased` is the count of times each product has been purchased.\n",
    "   \n",
    "2. **FROM (subquery)**:\n",
    "   - This line indicates that you are selecting data from a subquery.\n",
    "   - The subquery is enclosed in parentheses and is used to filter and organize the data before the final selection.\n",
    "\n",
    "3. **(subquery)**:\n",
    "   - This is the innermost subquery within the query.\n",
    "   - It starts by joining the `sales` and `menu` tables on the `product_id` column.\n",
    "   - It calculates the count of times each product has been purchased using `COUNT(s.product_id) as No_of_times_purchased`.\n",
    "   - It also calculates a ranking (`m`) for each customer based on the count of product purchases.\n",
    "   - The `DENSE_RANK()` window function assigns a rank to each customer within their partition (defined by `customer_id`) based on the count of product purchases. Customers who purchased the same number of products receive the same rank.\n",
    "\n",
    "4. **WHERE m = 1**:\n",
    "   - This line filters the results from the inner subquery.\n",
    "   - It selects only the rows where the rank `m` is equal to 1.\n",
    "   - This effectively retrieves the products that were purchased the most by each customer.\n",
    "\n",
    "In summary, this SQL query retrieves data related to the most frequently purchased products by each customer. It uses subqueries and window functions to calculate the count of product purchases for each customer, assigns ranks based on purchase counts, and selects the products with the highest purchase count (rank 1) for each customer. The result set includes `customer_id`, `product_name`, and the count of times each product has been purchased.\n"
   ]
  },
  {
   "cell_type": "code",
   "execution_count": 118,
   "id": "c95ea094-52a0-4ae8-9e44-32a74651ee75",
   "metadata": {
    "tags": []
   },
   "outputs": [],
   "source": [
    "sql_query_most_popular_item_by_customer_results = pd.read_sql_query(sql_query_most_popular_item_by_customer, conn)"
   ]
  },
  {
   "cell_type": "code",
   "execution_count": 119,
   "id": "9af4cb4c-2aa2-4dc9-bc8a-c39c299197c9",
   "metadata": {
    "tags": []
   },
   "outputs": [
    {
     "data": {
      "text/html": [
       "<div>\n",
       "<style scoped>\n",
       "    .dataframe tbody tr th:only-of-type {\n",
       "        vertical-align: middle;\n",
       "    }\n",
       "\n",
       "    .dataframe tbody tr th {\n",
       "        vertical-align: top;\n",
       "    }\n",
       "\n",
       "    .dataframe thead th {\n",
       "        text-align: right;\n",
       "    }\n",
       "</style>\n",
       "<table border=\"1\" class=\"dataframe\">\n",
       "  <thead>\n",
       "    <tr style=\"text-align: right;\">\n",
       "      <th></th>\n",
       "      <th>customer_id</th>\n",
       "      <th>product_name</th>\n",
       "      <th>No_of_times_purchased</th>\n",
       "    </tr>\n",
       "  </thead>\n",
       "  <tbody>\n",
       "    <tr>\n",
       "      <th>0</th>\n",
       "      <td>A</td>\n",
       "      <td>ramen</td>\n",
       "      <td>3</td>\n",
       "    </tr>\n",
       "    <tr>\n",
       "      <th>1</th>\n",
       "      <td>B</td>\n",
       "      <td>curry</td>\n",
       "      <td>2</td>\n",
       "    </tr>\n",
       "    <tr>\n",
       "      <th>2</th>\n",
       "      <td>B</td>\n",
       "      <td>sushi</td>\n",
       "      <td>2</td>\n",
       "    </tr>\n",
       "    <tr>\n",
       "      <th>3</th>\n",
       "      <td>B</td>\n",
       "      <td>ramen</td>\n",
       "      <td>2</td>\n",
       "    </tr>\n",
       "    <tr>\n",
       "      <th>4</th>\n",
       "      <td>C</td>\n",
       "      <td>ramen</td>\n",
       "      <td>3</td>\n",
       "    </tr>\n",
       "  </tbody>\n",
       "</table>\n",
       "</div>"
      ],
      "text/plain": [
       "  customer_id product_name  No_of_times_purchased\n",
       "0           A        ramen                      3\n",
       "1           B        curry                      2\n",
       "2           B        sushi                      2\n",
       "3           B        ramen                      2\n",
       "4           C        ramen                      3"
      ]
     },
     "execution_count": 119,
     "metadata": {},
     "output_type": "execute_result"
    }
   ],
   "source": [
    "sql_query_most_popular_item_by_customer_results"
   ]
  },
  {
   "cell_type": "markdown",
   "id": "5dbc75bb-c183-47c2-8327-5c77685606d8",
   "metadata": {
    "tags": []
   },
   "source": [
    "## Which item was purchased first by the customer after they became a member?"
   ]
  },
  {
   "cell_type": "code",
   "execution_count": 120,
   "id": "f5d5eddd-2943-4ee7-8d9b-17513b61c93d",
   "metadata": {
    "tags": []
   },
   "outputs": [],
   "source": [
    "sql_query_first_purchased_item_member = ''' \n",
    "SELECT \n",
    "  s.customer_id, \n",
    "  product_name\n",
    "FROM \n",
    "  members AS m \n",
    "  INNER JOIN sales AS s ON m.customer_id = s.customer_id \n",
    "  INNER JOIN menu AS men ON s.product_id = men.product_id \n",
    "WHERE \n",
    "  order_date > join_date \n",
    "GROUP BY \n",
    "  product_name, \n",
    "  customer_id \n",
    "ORDER BY \n",
    "  customer_id\n",
    "\n",
    "'''"
   ]
  },
  {
   "cell_type": "markdown",
   "id": "4de0aa5a-aefb-4f68-9522-67f73ef8ada3",
   "metadata": {
    "tags": []
   },
   "source": [
    "### SQL Query Explanation\n",
    "\n",
    "\n",
    "1. ** SELECT s.customer_id, product_name**:\n",
    "   - This line specifies the columns you want to retrieve in the result set.\n",
    "   - `s.customer_id` is the customer ID from the `sales` table.\n",
    "   - `product_name` is the name of the product from the `menu` table.\n",
    "\n",
    "2. **FROM members AS m INNER JOIN sales AS s ON m.customer_id = s.customer_id INNER JOIN menu AS men ON s.product_id = men.product_id**:\n",
    "   - This line specifies the tables you are querying data from.\n",
    "   - `members AS m` is given the alias `m`, representing the `members` table.\n",
    "   - `sales AS s` is given the alias `s`, representing the `sales` table.\n",
    "   - `menu AS men` is given the alias `men`, representing the `menu` table.\n",
    "   - `INNER JOIN` is used to combine rows from different tables based on specified conditions.\n",
    "   - The query joins `members` with `sales` based on matching `customer_id` and `sales` with `menu` based on matching `product_id`. This links the three tables together to access relevant data.\n",
    "\n",
    "3. **WHERE order_date > join_date**:\n",
    "   - This line filters the results using the `WHERE` clause.\n",
    "   - It selects only the rows where the `order_date` (from the `sales` table) is greater than the `join_date` (from the `members` table).\n",
    "   - This condition ensures that only purchases made after a member join date are included in the result set.\n",
    "\n",
    "4. **GROUP BY product_name, customer_id**:\n",
    "   - This line groups the results by two columns: `product_name` and `customer_id`.\n",
    "   - When you use `GROUP BY`, the query aggregates data for each unique combination of the specified columns.\n",
    "   - In this case, it groups the data by product name and customer ID, which allows you to see which products each customer has purchased.\n",
    "\n",
    "5. **ORDER BY customer_id**:\n",
    "   - This line specifies the ordering of the results using the `ORDER BY` clause.\n",
    "   - It orders the results by the `customer_id` column in ascending order.\n",
    "   - This means that the results will be sorted based on customer IDs.\n",
    "\n",
    "In summary, this SQL query retrieves data about customers who made purchases after joining. It selects the customer ID (`s.customer_id`) and the name of the product (`product_name`) they purchased, but only for purchases made after their join date. The results are grouped by product name and customer ID, and they are ordered by customer ID in ascending order.\n"
   ]
  },
  {
   "cell_type": "code",
   "execution_count": 121,
   "id": "15d9be3a-cc76-4014-9987-b110b84af319",
   "metadata": {
    "tags": []
   },
   "outputs": [],
   "source": [
    "sql_query_first_purchased_item_member_results = pd.read_sql_query(sql_query_first_purchased_item_member, conn)"
   ]
  },
  {
   "cell_type": "code",
   "execution_count": 122,
   "id": "17e64630-b776-4167-88d0-8b747fab57a4",
   "metadata": {
    "tags": []
   },
   "outputs": [
    {
     "data": {
      "text/html": [
       "<div>\n",
       "<style scoped>\n",
       "    .dataframe tbody tr th:only-of-type {\n",
       "        vertical-align: middle;\n",
       "    }\n",
       "\n",
       "    .dataframe tbody tr th {\n",
       "        vertical-align: top;\n",
       "    }\n",
       "\n",
       "    .dataframe thead th {\n",
       "        text-align: right;\n",
       "    }\n",
       "</style>\n",
       "<table border=\"1\" class=\"dataframe\">\n",
       "  <thead>\n",
       "    <tr style=\"text-align: right;\">\n",
       "      <th></th>\n",
       "      <th>customer_id</th>\n",
       "      <th>product_name</th>\n",
       "    </tr>\n",
       "  </thead>\n",
       "  <tbody>\n",
       "    <tr>\n",
       "      <th>0</th>\n",
       "      <td>A</td>\n",
       "      <td>ramen</td>\n",
       "    </tr>\n",
       "    <tr>\n",
       "      <th>1</th>\n",
       "      <td>B</td>\n",
       "      <td>sushi</td>\n",
       "    </tr>\n",
       "    <tr>\n",
       "      <th>2</th>\n",
       "      <td>B</td>\n",
       "      <td>ramen</td>\n",
       "    </tr>\n",
       "  </tbody>\n",
       "</table>\n",
       "</div>"
      ],
      "text/plain": [
       "  customer_id product_name\n",
       "0           A        ramen\n",
       "1           B        sushi\n",
       "2           B        ramen"
      ]
     },
     "execution_count": 122,
     "metadata": {},
     "output_type": "execute_result"
    }
   ],
   "source": [
    "sql_query_first_purchased_item_member_results"
   ]
  },
  {
   "cell_type": "markdown",
   "id": "bfde2f35-2b1b-43f1-9abe-ab059d1aa9aa",
   "metadata": {
    "tags": []
   },
   "source": [
    "## Which item was purchased just before the customer became a member?"
   ]
  },
  {
   "cell_type": "code",
   "execution_count": 123,
   "id": "0dfe2b36-d7d9-4d87-9f13-db302a4ac5dc",
   "metadata": {
    "tags": []
   },
   "outputs": [],
   "source": [
    "sql_query_purchased_customer_member = '''\n",
    "SELECT \n",
    "    s.customer_id, product_name\n",
    "FROM\n",
    "    members AS m\n",
    "        INNER JOIN\n",
    "    sales AS s ON m.customer_id = s.customer_id\n",
    "        INNER JOIN\n",
    "    menu AS men ON s.product_id = men.product_id\n",
    "WHERE\n",
    "    order_date < join_date\n",
    "GROUP BY product_name , customer_id\n",
    "ORDER BY customer_id\n",
    "'''"
   ]
  },
  {
   "cell_type": "code",
   "execution_count": 124,
   "id": "ee2ddf7c-f99b-4fe5-b1f7-a6780524234f",
   "metadata": {
    "tags": []
   },
   "outputs": [],
   "source": [
    "sql_query_purchased_customer_member_results = pd.read_sql_query(sql_query_purchased_customer_member, conn)"
   ]
  },
  {
   "cell_type": "code",
   "execution_count": 125,
   "id": "845065a4-1f91-4fc7-bfd2-d430b6b42992",
   "metadata": {
    "tags": []
   },
   "outputs": [
    {
     "data": {
      "text/html": [
       "<div>\n",
       "<style scoped>\n",
       "    .dataframe tbody tr th:only-of-type {\n",
       "        vertical-align: middle;\n",
       "    }\n",
       "\n",
       "    .dataframe tbody tr th {\n",
       "        vertical-align: top;\n",
       "    }\n",
       "\n",
       "    .dataframe thead th {\n",
       "        text-align: right;\n",
       "    }\n",
       "</style>\n",
       "<table border=\"1\" class=\"dataframe\">\n",
       "  <thead>\n",
       "    <tr style=\"text-align: right;\">\n",
       "      <th></th>\n",
       "      <th>customer_id</th>\n",
       "      <th>product_name</th>\n",
       "    </tr>\n",
       "  </thead>\n",
       "  <tbody>\n",
       "    <tr>\n",
       "      <th>0</th>\n",
       "      <td>A</td>\n",
       "      <td>sushi</td>\n",
       "    </tr>\n",
       "    <tr>\n",
       "      <th>1</th>\n",
       "      <td>A</td>\n",
       "      <td>curry</td>\n",
       "    </tr>\n",
       "    <tr>\n",
       "      <th>2</th>\n",
       "      <td>B</td>\n",
       "      <td>sushi</td>\n",
       "    </tr>\n",
       "    <tr>\n",
       "      <th>3</th>\n",
       "      <td>B</td>\n",
       "      <td>curry</td>\n",
       "    </tr>\n",
       "  </tbody>\n",
       "</table>\n",
       "</div>"
      ],
      "text/plain": [
       "  customer_id product_name\n",
       "0           A        sushi\n",
       "1           A        curry\n",
       "2           B        sushi\n",
       "3           B        curry"
      ]
     },
     "execution_count": 125,
     "metadata": {},
     "output_type": "execute_result"
    }
   ],
   "source": [
    "sql_query_purchased_customer_member_results"
   ]
  },
  {
   "cell_type": "markdown",
   "id": "d1fffe8d-dbdd-4052-8329-9e4e003e78dd",
   "metadata": {
    "tags": []
   },
   "source": [
    "## What is the total items and amount spent for each member before they became a member?"
   ]
  },
  {
   "cell_type": "code",
   "execution_count": 126,
   "id": "5a30c777-edfa-409e-8e12-dbc182e13c79",
   "metadata": {
    "tags": []
   },
   "outputs": [],
   "source": [
    "sql_query_total_amount_spent_per_member = '''\n",
    "SELECT \n",
    "  s.customer_id, \n",
    "  COUNT(product_name) AS no_of_items, \n",
    "  SUM(price) AS amount_spent \n",
    "FROM \n",
    "  sales AS s \n",
    "  INNER JOIN menu AS m ON s.product_id = m.product_id \n",
    "  INNER JOIN members AS mb ON mb.customer_id = s.customer_id \n",
    "WHERE \n",
    "  join_date > order_date \n",
    "GROUP BY \n",
    "  customer_id \n",
    "ORDER BY \n",
    "  customer_id\n",
    "'''"
   ]
  },
  {
   "cell_type": "markdown",
   "id": "1b67e1a3-4824-4816-b9be-54c2ad16c4bc",
   "metadata": {},
   "source": [
    "### SQL Query Explanation\n",
    "\n",
    "This SQL query retrieves specific information from three tables (`sales`, `menu`, and `members`) to analyze customer purchases. Here's a step-by-step explanation:\n",
    "\n",
    "1. **SELECT s.customer_id, COUNT(product_name) AS no_of_items, SUM(price) AS amount_spent**:\n",
    "   - This line specifies the columns you want to retrieve in the result set.\n",
    "   - `s.customer_id` represents the customer ID from the `sales` table.\n",
    "   - `COUNT(product_name)` calculates the count of product names to determine the number of items purchased by each customer.\n",
    "   - `SUM(price)` calculates the sum of prices to determine the total amount spent by each customer.\n",
    "   - Both `COUNT` and `SUM` are used with aliases (`no_of_items` and `amount_spent`) to provide meaningful names in the result set.\n",
    "\n",
    "2. **FROM sales AS s INNER JOIN menu AS m ON s.product_id = m.product_id INNER JOIN members AS mb ON mb.customer_id = s.customer_id**:\n",
    "   - This line specifies the tables you are querying data from.\n",
    "   - `sales AS s` is given the alias `s`, representing the `sales` table.\n",
    "   - `menu AS m` is given the alias `m`, representing the `menu` table.\n",
    "   - `members AS mb` is given the alias `mb`, representing the `members` table.\n",
    "   - `INNER JOIN` is used to combine rows from different tables based on specified conditions.\n",
    "   - The query joins `sales` with `menu` based on matching `product_id` and also joins `sales` with `members` based on matching `customer_id`, creating relationships between the three tables to access relevant data.\n",
    "\n",
    "3. **WHERE join_date > order_date**:\n",
    "   - This line filters the results using the `WHERE` clause.\n",
    "   - It selects only the rows where the `join_date` (from the `members` table) is greater than the `order_date` (from the `sales` table).\n",
    "   - This condition ensures that only purchases made after a customer joined are included in the result set.\n",
    "\n",
    "4. **GROUP BY customer_id**:\n",
    "   - This line groups the results by the `customer_id` column.\n",
    "   - When you use `GROUP BY`, the query aggregates data for each unique value in the specified column.\n",
    "   - In this case, it groups the data by customer ID, allowing you to calculate aggregate values for each customer.\n",
    "\n",
    "5. **ORDER BY customer_id**:\n",
    "   - This line specifies the ordering of the results using the `ORDER BY` clause.\n",
    "   - It orders the results by the `customer_id` column in ascending order.\n",
    "   - This means that the results will be sorted based on customer IDs.\n",
    "\n",
    "In summary, this SQL query analyzes customer purchases by counting the number of items (`no_of_items`) purchased by each customer and calculating the total amount spent (`amount_spent`). It only considers purchases made after a customer joined, groups the results by customer ID, and orders the results by customer ID in ascending order.\n"
   ]
  },
  {
   "cell_type": "code",
   "execution_count": 127,
   "id": "6839a829-2fe6-485f-80dc-b3af78f95ffa",
   "metadata": {
    "tags": []
   },
   "outputs": [],
   "source": [
    "sql_query_total_amount_spent_per_member_results = pd.read_sql_query(sql_query_total_amount_spent_per_member, conn)"
   ]
  },
  {
   "cell_type": "code",
   "execution_count": 128,
   "id": "ff774a76-7137-4952-a353-9737822abfb7",
   "metadata": {
    "tags": []
   },
   "outputs": [
    {
     "data": {
      "text/html": [
       "<div>\n",
       "<style scoped>\n",
       "    .dataframe tbody tr th:only-of-type {\n",
       "        vertical-align: middle;\n",
       "    }\n",
       "\n",
       "    .dataframe tbody tr th {\n",
       "        vertical-align: top;\n",
       "    }\n",
       "\n",
       "    .dataframe thead th {\n",
       "        text-align: right;\n",
       "    }\n",
       "</style>\n",
       "<table border=\"1\" class=\"dataframe\">\n",
       "  <thead>\n",
       "    <tr style=\"text-align: right;\">\n",
       "      <th></th>\n",
       "      <th>customer_id</th>\n",
       "      <th>no_of_items</th>\n",
       "      <th>amount_spent</th>\n",
       "    </tr>\n",
       "  </thead>\n",
       "  <tbody>\n",
       "    <tr>\n",
       "      <th>0</th>\n",
       "      <td>A</td>\n",
       "      <td>2</td>\n",
       "      <td>25.0</td>\n",
       "    </tr>\n",
       "    <tr>\n",
       "      <th>1</th>\n",
       "      <td>B</td>\n",
       "      <td>3</td>\n",
       "      <td>40.0</td>\n",
       "    </tr>\n",
       "  </tbody>\n",
       "</table>\n",
       "</div>"
      ],
      "text/plain": [
       "  customer_id  no_of_items  amount_spent\n",
       "0           A            2          25.0\n",
       "1           B            3          40.0"
      ]
     },
     "execution_count": 128,
     "metadata": {},
     "output_type": "execute_result"
    }
   ],
   "source": [
    "sql_query_total_amount_spent_per_member_results"
   ]
  },
  {
   "cell_type": "markdown",
   "id": "f68d3064-4538-4faf-897a-1a399f67aa90",
   "metadata": {},
   "source": [
    "## If each $1 spent equates to 10 points and sushi has a 2x points multiplier - how many points would each customer have?\n"
   ]
  },
  {
   "cell_type": "code",
   "execution_count": 129,
   "id": "c2a9f434-4b2d-4e1a-8e65-9a77d706ef82",
   "metadata": {
    "tags": []
   },
   "outputs": [],
   "source": [
    "sql_query_customer_points = ''' \n",
    "SELECT \n",
    "    customer_id, product_name, SUM(points) AS total_points\n",
    "FROM\n",
    "    (SELECT \n",
    "        customer_id,\n",
    "            product_name,\n",
    "            CASE\n",
    "                WHEN product_name = 'sushi' THEN 2 * (price) * 10\n",
    "                ELSE 10 * (price)\n",
    "            END AS points\n",
    "    FROM\n",
    "        menu AS m\n",
    "    INNER JOIN sales AS s ON m.product_id = s.product_id) f\n",
    "GROUP BY customer_id\n",
    "'''"
   ]
  },
  {
   "cell_type": "markdown",
   "id": "676d636b-7252-4ffa-8159-760d4b04d7b0",
   "metadata": {},
   "source": [
    "### SQL Query Explanation\n",
    "\n",
    "This SQL query calculates the total points earned by each customer based on their purchases of specific products (e.g., 'sushi') from the `menu` and `sales` tables. Here's a step-by-step explanation:\n",
    "\n",
    "1. **SELECT customer_id, product_name, SUM(points) AS total_points**:\n",
    "   - This line specifies the columns you want to retrieve in the result set.\n",
    "   - `customer_id` represents the unique identifier for customers.\n",
    "   - `product_name` represents the name of the purchased product.\n",
    "   - `SUM(points)` calculates the sum of the points earned for each customer's purchases.\n",
    "   - The points calculation is based on the product's name and price.\n",
    "\n",
    "2. **FROM (subquery) f**:\n",
    "   - This line indicates that you are selecting data from a subquery and assigns it the alias `f`.\n",
    "   - The subquery calculates the points earned for each customer's purchases of specific products and includes columns for `customer_id`, `product_name`, and `points`.\n",
    "\n",
    "3. **(subquery)**:\n",
    "   - This is the innermost subquery within the query.\n",
    "   - It starts by joining the `menu` and `sales` tables on the `product_id` column to link product purchases with their respective prices.\n",
    "   - It uses a `CASE` statement to calculate points based on the product name. For 'sushi' products, the points are calculated as `2 * (price) * 10`, while for other products, the points are calculated as `10 * (price)`.\n",
    "\n",
    "4. **GROUP BY customer_id**:\n",
    "   - This line groups the results by the `customer_id` column.\n",
    "   - When you use `GROUP BY`, the query aggregates data for each unique value in the specified column.\n",
    "   - In this case, it groups the data by customer ID, allowing you to calculate the total points earned by each customer.\n",
    "\n",
    "In summary, this SQL query calculates the total points earned by each customer for their purchases, with the point calculation based on the product name and price. It uses a subquery to first calculate the points for each product purchase, and then it aggregates and groups the results by customer ID to calculate the total points for each customer.\n"
   ]
  },
  {
   "cell_type": "code",
   "execution_count": 130,
   "id": "b5101cfe-cd91-4aec-a955-b3f5e4f33501",
   "metadata": {
    "tags": []
   },
   "outputs": [],
   "source": [
    "sql_query_customer_points_results = pd.read_sql_query(sql_query_customer_points, conn)"
   ]
  },
  {
   "cell_type": "code",
   "execution_count": 131,
   "id": "f0fb14e3-a6a8-4e59-918e-0320debf1b00",
   "metadata": {
    "tags": []
   },
   "outputs": [
    {
     "data": {
      "text/html": [
       "<div>\n",
       "<style scoped>\n",
       "    .dataframe tbody tr th:only-of-type {\n",
       "        vertical-align: middle;\n",
       "    }\n",
       "\n",
       "    .dataframe tbody tr th {\n",
       "        vertical-align: top;\n",
       "    }\n",
       "\n",
       "    .dataframe thead th {\n",
       "        text-align: right;\n",
       "    }\n",
       "</style>\n",
       "<table border=\"1\" class=\"dataframe\">\n",
       "  <thead>\n",
       "    <tr style=\"text-align: right;\">\n",
       "      <th></th>\n",
       "      <th>customer_id</th>\n",
       "      <th>product_name</th>\n",
       "      <th>total_points</th>\n",
       "    </tr>\n",
       "  </thead>\n",
       "  <tbody>\n",
       "    <tr>\n",
       "      <th>0</th>\n",
       "      <td>A</td>\n",
       "      <td>sushi</td>\n",
       "      <td>860.0</td>\n",
       "    </tr>\n",
       "    <tr>\n",
       "      <th>1</th>\n",
       "      <td>B</td>\n",
       "      <td>curry</td>\n",
       "      <td>940.0</td>\n",
       "    </tr>\n",
       "    <tr>\n",
       "      <th>2</th>\n",
       "      <td>C</td>\n",
       "      <td>ramen</td>\n",
       "      <td>360.0</td>\n",
       "    </tr>\n",
       "  </tbody>\n",
       "</table>\n",
       "</div>"
      ],
      "text/plain": [
       "  customer_id product_name  total_points\n",
       "0           A        sushi         860.0\n",
       "1           B        curry         940.0\n",
       "2           C        ramen         360.0"
      ]
     },
     "execution_count": 131,
     "metadata": {},
     "output_type": "execute_result"
    }
   ],
   "source": [
    "sql_query_customer_points_results"
   ]
  },
  {
   "cell_type": "markdown",
   "id": "f1495e3f-cff1-443d-8661-f720f46f3eaa",
   "metadata": {},
   "source": [
    "## In the first week after a customer joins the program (including their join date) they earn 2x points on all items, not just sushi - how many points do customer A and B have at the end of January?"
   ]
  },
  {
   "cell_type": "code",
   "execution_count": 132,
   "id": "fafacad9-b655-45bb-a7c2-96f3dc3714fa",
   "metadata": {
    "tags": []
   },
   "outputs": [],
   "source": [
    "sql_query_customer_points_jan_end = '''\n",
    "WITH dates_cte AS (\n",
    "    SELECT \n",
    "        m.customer_id, \n",
    "        m.join_date, \n",
    "        DATE_ADD(m.join_date, INTERVAL 6 DAY) AS valid_date, \n",
    "        DATE_SUB(DATE_ADD(LAST_DAY('2021-01-01'), INTERVAL 1 MONTH), INTERVAL 1 DAY) AS last_date\n",
    "    FROM dannys_diner.members AS m\n",
    ")\n",
    "\n",
    "SELECT \n",
    "    s.customer_id, \n",
    "    SUM(\n",
    "        CASE\n",
    "            WHEN menu.product_name = 'sushi' THEN 2 * 10 * menu.price\n",
    "            WHEN s.order_date BETWEEN dates.join_date AND dates.valid_date THEN 2 * 10 * menu.price\n",
    "            ELSE 10 * menu.price\n",
    "        END\n",
    "    ) AS points\n",
    "FROM dannys_diner.sales AS s\n",
    "JOIN dates_cte AS dates\n",
    "    ON s.customer_id = dates.customer_id\n",
    "    AND s.order_date <= dates.last_date\n",
    "JOIN dannys_diner.menu AS menu\n",
    "    ON s.product_id = menu.product_id\n",
    "GROUP BY s.customer_id;\n",
    "\n",
    "'''"
   ]
  },
  {
   "cell_type": "markdown",
   "id": "a01bcfcd-28fa-4506-8c0c-8a5d8b084166",
   "metadata": {},
   "source": [
    "### SQL Query Explanation\n",
    "\n",
    "This MySQL query calculates the total points earned by customers for their purchases of specific products, such as 'sushi,' within a specific date range. It uses a Common Table Expression (CTE) and joins multiple tables. Let's break it down step by step:\n",
    "\n",
    "1. **WITH dates_cte AS (...)**:\n",
    "   - This section defines a Common Table Expression (CTE) named `dates_cte`.\n",
    "   - The CTE calculates relevant date values for each customer:\n",
    "     - `join_date` is the date when the customer joined.\n",
    "     - `valid_date` is the date six days after the `join_date`.\n",
    "     - `last_date` is the last day of the month preceding '2021-01-01.'\n",
    "\n",
    "2. **SELECT s.customer_id, SUM(...) AS points**:\n",
    "   - This line specifies the columns you want to retrieve in the result set.\n",
    "   - `s.customer_id` represents the customer ID from the `sales` table.\n",
    "   - `SUM(...)` calculates the total points earned for each customer's purchases.\n",
    "   - The points calculation is based on conditions that consider the product name, order date, and price.\n",
    "\n",
    "3. **FROM dannys_diner.sales AS s**:\n",
    "   - This line specifies the `sales` table with the alias `s`.\n",
    "\n",
    "4. **JOIN dates_cte AS dates ON ...**:\n",
    "   - This line joins the CTE `dates_cte` with the `sales` table based on certain conditions:\n",
    "     - `s.customer_id = dates.customer_id` ensures that the customer IDs match.\n",
    "     - `s.order_date <= dates.last_date` restricts the data to purchases made on or before the last date calculated in the CTE.\n",
    "\n",
    "5. **JOIN dannys_diner.menu AS menu ON ...**:\n",
    "   - This line joins the `menu` table with the alias `menu` based on the product ID (`s.product_id` matches `menu.product_id`).\n",
    "\n",
    "6. **GROUP BY s.customer_id**:\n",
    "   - This line groups the results by the `customer_id` column.\n",
    "   - When you use `GROUP BY`, the query aggregates data for each unique value in the specified column.\n",
    "   - In this case, it groups the data by customer ID, allowing you to calculate the total points earned by each customer.\n",
    "\n",
    "In summary, this MySQL query calculates the total points earned by customers for their purchases. The points calculation is based on product names ('sushi'), order dates within specific date ranges (using the CTE), and product prices. The results are grouped by customer ID to provide the total points earned by each customer.\n"
   ]
  },
  {
   "cell_type": "code",
   "execution_count": 133,
   "id": "f23d437b-b59d-40aa-83f6-3a3dd0c171d7",
   "metadata": {
    "tags": []
   },
   "outputs": [],
   "source": [
    "sql_query_customer_points_jan_end_results = pd.read_sql_query(sql_query_customer_points_jan_end, conn)"
   ]
  },
  {
   "cell_type": "code",
   "execution_count": 134,
   "id": "154d833d-e95e-425a-9385-5c09777fe99b",
   "metadata": {
    "tags": []
   },
   "outputs": [
    {
     "data": {
      "text/html": [
       "<div>\n",
       "<style scoped>\n",
       "    .dataframe tbody tr th:only-of-type {\n",
       "        vertical-align: middle;\n",
       "    }\n",
       "\n",
       "    .dataframe tbody tr th {\n",
       "        vertical-align: top;\n",
       "    }\n",
       "\n",
       "    .dataframe thead th {\n",
       "        text-align: right;\n",
       "    }\n",
       "</style>\n",
       "<table border=\"1\" class=\"dataframe\">\n",
       "  <thead>\n",
       "    <tr style=\"text-align: right;\">\n",
       "      <th></th>\n",
       "      <th>customer_id</th>\n",
       "      <th>points</th>\n",
       "    </tr>\n",
       "  </thead>\n",
       "  <tbody>\n",
       "    <tr>\n",
       "      <th>0</th>\n",
       "      <td>B</td>\n",
       "      <td>940.0</td>\n",
       "    </tr>\n",
       "    <tr>\n",
       "      <th>1</th>\n",
       "      <td>A</td>\n",
       "      <td>1370.0</td>\n",
       "    </tr>\n",
       "  </tbody>\n",
       "</table>\n",
       "</div>"
      ],
      "text/plain": [
       "  customer_id  points\n",
       "0           B   940.0\n",
       "1           A  1370.0"
      ]
     },
     "execution_count": 134,
     "metadata": {},
     "output_type": "execute_result"
    }
   ],
   "source": [
    "sql_query_customer_points_jan_end_results"
   ]
  },
  {
   "cell_type": "code",
   "execution_count": null,
   "id": "9381bf18-7220-41eb-82ca-c162a1670936",
   "metadata": {
    "collapsed": true,
    "jupyter": {
     "outputs_hidden": true
    }
   },
   "outputs": [],
   "source": []
  }
 ],
 "metadata": {
  "availableInstances": [
   {
    "_defaultOrder": 0,
    "_isFastLaunch": true,
    "category": "General purpose",
    "gpuNum": 0,
    "hideHardwareSpecs": false,
    "memoryGiB": 4,
    "name": "ml.t3.medium",
    "vcpuNum": 2
   },
   {
    "_defaultOrder": 1,
    "_isFastLaunch": false,
    "category": "General purpose",
    "gpuNum": 0,
    "hideHardwareSpecs": false,
    "memoryGiB": 8,
    "name": "ml.t3.large",
    "vcpuNum": 2
   },
   {
    "_defaultOrder": 2,
    "_isFastLaunch": false,
    "category": "General purpose",
    "gpuNum": 0,
    "hideHardwareSpecs": false,
    "memoryGiB": 16,
    "name": "ml.t3.xlarge",
    "vcpuNum": 4
   },
   {
    "_defaultOrder": 3,
    "_isFastLaunch": false,
    "category": "General purpose",
    "gpuNum": 0,
    "hideHardwareSpecs": false,
    "memoryGiB": 32,
    "name": "ml.t3.2xlarge",
    "vcpuNum": 8
   },
   {
    "_defaultOrder": 4,
    "_isFastLaunch": true,
    "category": "General purpose",
    "gpuNum": 0,
    "hideHardwareSpecs": false,
    "memoryGiB": 8,
    "name": "ml.m5.large",
    "vcpuNum": 2
   },
   {
    "_defaultOrder": 5,
    "_isFastLaunch": false,
    "category": "General purpose",
    "gpuNum": 0,
    "hideHardwareSpecs": false,
    "memoryGiB": 16,
    "name": "ml.m5.xlarge",
    "vcpuNum": 4
   },
   {
    "_defaultOrder": 6,
    "_isFastLaunch": false,
    "category": "General purpose",
    "gpuNum": 0,
    "hideHardwareSpecs": false,
    "memoryGiB": 32,
    "name": "ml.m5.2xlarge",
    "vcpuNum": 8
   },
   {
    "_defaultOrder": 7,
    "_isFastLaunch": false,
    "category": "General purpose",
    "gpuNum": 0,
    "hideHardwareSpecs": false,
    "memoryGiB": 64,
    "name": "ml.m5.4xlarge",
    "vcpuNum": 16
   },
   {
    "_defaultOrder": 8,
    "_isFastLaunch": false,
    "category": "General purpose",
    "gpuNum": 0,
    "hideHardwareSpecs": false,
    "memoryGiB": 128,
    "name": "ml.m5.8xlarge",
    "vcpuNum": 32
   },
   {
    "_defaultOrder": 9,
    "_isFastLaunch": false,
    "category": "General purpose",
    "gpuNum": 0,
    "hideHardwareSpecs": false,
    "memoryGiB": 192,
    "name": "ml.m5.12xlarge",
    "vcpuNum": 48
   },
   {
    "_defaultOrder": 10,
    "_isFastLaunch": false,
    "category": "General purpose",
    "gpuNum": 0,
    "hideHardwareSpecs": false,
    "memoryGiB": 256,
    "name": "ml.m5.16xlarge",
    "vcpuNum": 64
   },
   {
    "_defaultOrder": 11,
    "_isFastLaunch": false,
    "category": "General purpose",
    "gpuNum": 0,
    "hideHardwareSpecs": false,
    "memoryGiB": 384,
    "name": "ml.m5.24xlarge",
    "vcpuNum": 96
   },
   {
    "_defaultOrder": 12,
    "_isFastLaunch": false,
    "category": "General purpose",
    "gpuNum": 0,
    "hideHardwareSpecs": false,
    "memoryGiB": 8,
    "name": "ml.m5d.large",
    "vcpuNum": 2
   },
   {
    "_defaultOrder": 13,
    "_isFastLaunch": false,
    "category": "General purpose",
    "gpuNum": 0,
    "hideHardwareSpecs": false,
    "memoryGiB": 16,
    "name": "ml.m5d.xlarge",
    "vcpuNum": 4
   },
   {
    "_defaultOrder": 14,
    "_isFastLaunch": false,
    "category": "General purpose",
    "gpuNum": 0,
    "hideHardwareSpecs": false,
    "memoryGiB": 32,
    "name": "ml.m5d.2xlarge",
    "vcpuNum": 8
   },
   {
    "_defaultOrder": 15,
    "_isFastLaunch": false,
    "category": "General purpose",
    "gpuNum": 0,
    "hideHardwareSpecs": false,
    "memoryGiB": 64,
    "name": "ml.m5d.4xlarge",
    "vcpuNum": 16
   },
   {
    "_defaultOrder": 16,
    "_isFastLaunch": false,
    "category": "General purpose",
    "gpuNum": 0,
    "hideHardwareSpecs": false,
    "memoryGiB": 128,
    "name": "ml.m5d.8xlarge",
    "vcpuNum": 32
   },
   {
    "_defaultOrder": 17,
    "_isFastLaunch": false,
    "category": "General purpose",
    "gpuNum": 0,
    "hideHardwareSpecs": false,
    "memoryGiB": 192,
    "name": "ml.m5d.12xlarge",
    "vcpuNum": 48
   },
   {
    "_defaultOrder": 18,
    "_isFastLaunch": false,
    "category": "General purpose",
    "gpuNum": 0,
    "hideHardwareSpecs": false,
    "memoryGiB": 256,
    "name": "ml.m5d.16xlarge",
    "vcpuNum": 64
   },
   {
    "_defaultOrder": 19,
    "_isFastLaunch": false,
    "category": "General purpose",
    "gpuNum": 0,
    "hideHardwareSpecs": false,
    "memoryGiB": 384,
    "name": "ml.m5d.24xlarge",
    "vcpuNum": 96
   },
   {
    "_defaultOrder": 20,
    "_isFastLaunch": false,
    "category": "General purpose",
    "gpuNum": 0,
    "hideHardwareSpecs": true,
    "memoryGiB": 0,
    "name": "ml.geospatial.interactive",
    "supportedImageNames": [
     "sagemaker-geospatial-v1-0"
    ],
    "vcpuNum": 0
   },
   {
    "_defaultOrder": 21,
    "_isFastLaunch": true,
    "category": "Compute optimized",
    "gpuNum": 0,
    "hideHardwareSpecs": false,
    "memoryGiB": 4,
    "name": "ml.c5.large",
    "vcpuNum": 2
   },
   {
    "_defaultOrder": 22,
    "_isFastLaunch": false,
    "category": "Compute optimized",
    "gpuNum": 0,
    "hideHardwareSpecs": false,
    "memoryGiB": 8,
    "name": "ml.c5.xlarge",
    "vcpuNum": 4
   },
   {
    "_defaultOrder": 23,
    "_isFastLaunch": false,
    "category": "Compute optimized",
    "gpuNum": 0,
    "hideHardwareSpecs": false,
    "memoryGiB": 16,
    "name": "ml.c5.2xlarge",
    "vcpuNum": 8
   },
   {
    "_defaultOrder": 24,
    "_isFastLaunch": false,
    "category": "Compute optimized",
    "gpuNum": 0,
    "hideHardwareSpecs": false,
    "memoryGiB": 32,
    "name": "ml.c5.4xlarge",
    "vcpuNum": 16
   },
   {
    "_defaultOrder": 25,
    "_isFastLaunch": false,
    "category": "Compute optimized",
    "gpuNum": 0,
    "hideHardwareSpecs": false,
    "memoryGiB": 72,
    "name": "ml.c5.9xlarge",
    "vcpuNum": 36
   },
   {
    "_defaultOrder": 26,
    "_isFastLaunch": false,
    "category": "Compute optimized",
    "gpuNum": 0,
    "hideHardwareSpecs": false,
    "memoryGiB": 96,
    "name": "ml.c5.12xlarge",
    "vcpuNum": 48
   },
   {
    "_defaultOrder": 27,
    "_isFastLaunch": false,
    "category": "Compute optimized",
    "gpuNum": 0,
    "hideHardwareSpecs": false,
    "memoryGiB": 144,
    "name": "ml.c5.18xlarge",
    "vcpuNum": 72
   },
   {
    "_defaultOrder": 28,
    "_isFastLaunch": false,
    "category": "Compute optimized",
    "gpuNum": 0,
    "hideHardwareSpecs": false,
    "memoryGiB": 192,
    "name": "ml.c5.24xlarge",
    "vcpuNum": 96
   },
   {
    "_defaultOrder": 29,
    "_isFastLaunch": true,
    "category": "Accelerated computing",
    "gpuNum": 1,
    "hideHardwareSpecs": false,
    "memoryGiB": 16,
    "name": "ml.g4dn.xlarge",
    "vcpuNum": 4
   },
   {
    "_defaultOrder": 30,
    "_isFastLaunch": false,
    "category": "Accelerated computing",
    "gpuNum": 1,
    "hideHardwareSpecs": false,
    "memoryGiB": 32,
    "name": "ml.g4dn.2xlarge",
    "vcpuNum": 8
   },
   {
    "_defaultOrder": 31,
    "_isFastLaunch": false,
    "category": "Accelerated computing",
    "gpuNum": 1,
    "hideHardwareSpecs": false,
    "memoryGiB": 64,
    "name": "ml.g4dn.4xlarge",
    "vcpuNum": 16
   },
   {
    "_defaultOrder": 32,
    "_isFastLaunch": false,
    "category": "Accelerated computing",
    "gpuNum": 1,
    "hideHardwareSpecs": false,
    "memoryGiB": 128,
    "name": "ml.g4dn.8xlarge",
    "vcpuNum": 32
   },
   {
    "_defaultOrder": 33,
    "_isFastLaunch": false,
    "category": "Accelerated computing",
    "gpuNum": 4,
    "hideHardwareSpecs": false,
    "memoryGiB": 192,
    "name": "ml.g4dn.12xlarge",
    "vcpuNum": 48
   },
   {
    "_defaultOrder": 34,
    "_isFastLaunch": false,
    "category": "Accelerated computing",
    "gpuNum": 1,
    "hideHardwareSpecs": false,
    "memoryGiB": 256,
    "name": "ml.g4dn.16xlarge",
    "vcpuNum": 64
   },
   {
    "_defaultOrder": 35,
    "_isFastLaunch": false,
    "category": "Accelerated computing",
    "gpuNum": 1,
    "hideHardwareSpecs": false,
    "memoryGiB": 61,
    "name": "ml.p3.2xlarge",
    "vcpuNum": 8
   },
   {
    "_defaultOrder": 36,
    "_isFastLaunch": false,
    "category": "Accelerated computing",
    "gpuNum": 4,
    "hideHardwareSpecs": false,
    "memoryGiB": 244,
    "name": "ml.p3.8xlarge",
    "vcpuNum": 32
   },
   {
    "_defaultOrder": 37,
    "_isFastLaunch": false,
    "category": "Accelerated computing",
    "gpuNum": 8,
    "hideHardwareSpecs": false,
    "memoryGiB": 488,
    "name": "ml.p3.16xlarge",
    "vcpuNum": 64
   },
   {
    "_defaultOrder": 38,
    "_isFastLaunch": false,
    "category": "Accelerated computing",
    "gpuNum": 8,
    "hideHardwareSpecs": false,
    "memoryGiB": 768,
    "name": "ml.p3dn.24xlarge",
    "vcpuNum": 96
   },
   {
    "_defaultOrder": 39,
    "_isFastLaunch": false,
    "category": "Memory Optimized",
    "gpuNum": 0,
    "hideHardwareSpecs": false,
    "memoryGiB": 16,
    "name": "ml.r5.large",
    "vcpuNum": 2
   },
   {
    "_defaultOrder": 40,
    "_isFastLaunch": false,
    "category": "Memory Optimized",
    "gpuNum": 0,
    "hideHardwareSpecs": false,
    "memoryGiB": 32,
    "name": "ml.r5.xlarge",
    "vcpuNum": 4
   },
   {
    "_defaultOrder": 41,
    "_isFastLaunch": false,
    "category": "Memory Optimized",
    "gpuNum": 0,
    "hideHardwareSpecs": false,
    "memoryGiB": 64,
    "name": "ml.r5.2xlarge",
    "vcpuNum": 8
   },
   {
    "_defaultOrder": 42,
    "_isFastLaunch": false,
    "category": "Memory Optimized",
    "gpuNum": 0,
    "hideHardwareSpecs": false,
    "memoryGiB": 128,
    "name": "ml.r5.4xlarge",
    "vcpuNum": 16
   },
   {
    "_defaultOrder": 43,
    "_isFastLaunch": false,
    "category": "Memory Optimized",
    "gpuNum": 0,
    "hideHardwareSpecs": false,
    "memoryGiB": 256,
    "name": "ml.r5.8xlarge",
    "vcpuNum": 32
   },
   {
    "_defaultOrder": 44,
    "_isFastLaunch": false,
    "category": "Memory Optimized",
    "gpuNum": 0,
    "hideHardwareSpecs": false,
    "memoryGiB": 384,
    "name": "ml.r5.12xlarge",
    "vcpuNum": 48
   },
   {
    "_defaultOrder": 45,
    "_isFastLaunch": false,
    "category": "Memory Optimized",
    "gpuNum": 0,
    "hideHardwareSpecs": false,
    "memoryGiB": 512,
    "name": "ml.r5.16xlarge",
    "vcpuNum": 64
   },
   {
    "_defaultOrder": 46,
    "_isFastLaunch": false,
    "category": "Memory Optimized",
    "gpuNum": 0,
    "hideHardwareSpecs": false,
    "memoryGiB": 768,
    "name": "ml.r5.24xlarge",
    "vcpuNum": 96
   },
   {
    "_defaultOrder": 47,
    "_isFastLaunch": false,
    "category": "Accelerated computing",
    "gpuNum": 1,
    "hideHardwareSpecs": false,
    "memoryGiB": 16,
    "name": "ml.g5.xlarge",
    "vcpuNum": 4
   },
   {
    "_defaultOrder": 48,
    "_isFastLaunch": false,
    "category": "Accelerated computing",
    "gpuNum": 1,
    "hideHardwareSpecs": false,
    "memoryGiB": 32,
    "name": "ml.g5.2xlarge",
    "vcpuNum": 8
   },
   {
    "_defaultOrder": 49,
    "_isFastLaunch": false,
    "category": "Accelerated computing",
    "gpuNum": 1,
    "hideHardwareSpecs": false,
    "memoryGiB": 64,
    "name": "ml.g5.4xlarge",
    "vcpuNum": 16
   },
   {
    "_defaultOrder": 50,
    "_isFastLaunch": false,
    "category": "Accelerated computing",
    "gpuNum": 1,
    "hideHardwareSpecs": false,
    "memoryGiB": 128,
    "name": "ml.g5.8xlarge",
    "vcpuNum": 32
   },
   {
    "_defaultOrder": 51,
    "_isFastLaunch": false,
    "category": "Accelerated computing",
    "gpuNum": 1,
    "hideHardwareSpecs": false,
    "memoryGiB": 256,
    "name": "ml.g5.16xlarge",
    "vcpuNum": 64
   },
   {
    "_defaultOrder": 52,
    "_isFastLaunch": false,
    "category": "Accelerated computing",
    "gpuNum": 4,
    "hideHardwareSpecs": false,
    "memoryGiB": 192,
    "name": "ml.g5.12xlarge",
    "vcpuNum": 48
   },
   {
    "_defaultOrder": 53,
    "_isFastLaunch": false,
    "category": "Accelerated computing",
    "gpuNum": 4,
    "hideHardwareSpecs": false,
    "memoryGiB": 384,
    "name": "ml.g5.24xlarge",
    "vcpuNum": 96
   },
   {
    "_defaultOrder": 54,
    "_isFastLaunch": false,
    "category": "Accelerated computing",
    "gpuNum": 8,
    "hideHardwareSpecs": false,
    "memoryGiB": 768,
    "name": "ml.g5.48xlarge",
    "vcpuNum": 192
   },
   {
    "_defaultOrder": 55,
    "_isFastLaunch": false,
    "category": "Accelerated computing",
    "gpuNum": 8,
    "hideHardwareSpecs": false,
    "memoryGiB": 1152,
    "name": "ml.p4d.24xlarge",
    "vcpuNum": 96
   },
   {
    "_defaultOrder": 56,
    "_isFastLaunch": false,
    "category": "Accelerated computing",
    "gpuNum": 8,
    "hideHardwareSpecs": false,
    "memoryGiB": 1152,
    "name": "ml.p4de.24xlarge",
    "vcpuNum": 96
   }
  ],
  "instance_type": "ml.t3.medium",
  "kernelspec": {
   "display_name": "Python 3 (Data Science 3.0)",
   "language": "python",
   "name": "python3__SAGEMAKER_INTERNAL__arn:aws:sagemaker:us-west-2:236514542706:image/sagemaker-data-science-310-v1"
  },
  "language_info": {
   "codemirror_mode": {
    "name": "ipython",
    "version": 3
   },
   "file_extension": ".py",
   "mimetype": "text/x-python",
   "name": "python",
   "nbconvert_exporter": "python",
   "pygments_lexer": "ipython3",
   "version": "3.10.6"
  }
 },
 "nbformat": 4,
 "nbformat_minor": 5
}
